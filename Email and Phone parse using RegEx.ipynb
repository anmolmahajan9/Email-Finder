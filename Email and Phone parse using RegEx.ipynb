{
 "cells": [
  {
   "cell_type": "code",
   "execution_count": 2,
   "metadata": {},
   "outputs": [
    {
     "name": "stdout",
     "output_type": "stream",
     "text": [
      "[]\n",
      "[]\n",
      "['mahajan.gift@gmail.coM.com']\n",
      "[]\n",
      "['rekhamahajan5568@gmail.com']\n",
      "[]\n",
      "['jadhav.aalisha1612@gmail. com']\n",
      "[]\n",
      "['sagrikaa.srkashyap@gmail .com']\n",
      "[]\n",
      "['iya76@g m a i  l . c o m']\n",
      "[]\n",
      "[]\n",
      "[]\n",
      "[]\n",
      "[]\n",
      "['braganzamario24@ gmail.com']\n",
      "[]\n",
      "[]\n",
      "[]\n",
      "[]\n",
      "[]\n",
      "[]\n",
      "[]\n",
      "[]\n",
      "[]\n",
      "[]\n",
      "['shufra.gani@gmail.com']\n",
      "[]\n",
      "[]\n",
      "[]\n",
      "[]\n",
      "['punya.sa@apu.edu.in']\n",
      "[]\n",
      "[]\n",
      "[]\n",
      "[]\n",
      "[]\n",
      "[]\n",
      "['shradha2111@gmail.com']\n",
      "[]\n",
      "[]\n",
      "[]\n",
      "[]\n",
      "[]\n",
      "[]\n",
      "['medha08mishra07@gmail.com']\n",
      "[]\n",
      "[]\n",
      "[]\n",
      "[]\n",
      "[]\n",
      "[]\n",
      "[]\n",
      "[]\n",
      "[]\n"
     ]
    }
   ],
   "source": [
    "# Email Parsing\n",
    "\n",
    "import re\n",
    "\n",
    "file = open('email.txt', encoding = 'UTF8')\n",
    "\n",
    "for line in file :\n",
    "    line = line.strip()\n",
    "\n",
    "    #print(line)\n",
    "    print( re.findall('[a-zA-Z0-9]+[^:\\s-]*@[\\sa-zA-Z0-9]+[\\.\\s]+[\\sa-zA-Z0-9]+[\\.\\s]*[\\sa-zA-Z0-9][a-zA-Z0-9]*',line))\n",
    "\n",
    "# \\S+@\\S+\\.\\S+\n",
    "# [a-zA-Z0-9]*[^-:\\s]*@[\\sa-zA-Z0-9]+[\\.\\s]+[\\sa-zA-Z0-9]+[\\.\\s]*[\\sa-zA-Z0-9][a-zA-Z0-9]*"
   ]
  },
  {
   "cell_type": "code",
   "execution_count": 3,
   "metadata": {},
   "outputs": [
    {
     "output_type": "stream",
     "name": "stdout",
     "text": [
      "[]\n[]\n[]\n[]\n[]\n[]\n[]\n[]\n[]\n[]\n[]\n[]\n[]\n[]\n['0091-9923036599']\n['0091-8007086894']\n[]\n[]\n[]\n[]\n[]\n[]\n[]\n[]\n[]\n[]\n[]\n['7003476369']\n[]\n[]\n[]\n[]\n['91 7892574836']\n[]\n[]\n[]\n[]\n[]\n['918574693464']\n[]\n[]\n[]\n[]\n[]\n[]\n[]\n[]\n[]\n[]\n['9519854535']\n[]\n[]\n[]\n[]\n['919545803731']\n[]\n[]\n['8209182426, 9680117153']\n[]\n[]\n"
     ]
    }
   ],
   "source": [
    "#Phone numbers parsing\n",
    "\n",
    "import re\n",
    "\n",
    "file = open('email.txt', encoding = 'UTF8')\n",
    "\n",
    "for line in file :\n",
    "    line = line.strip()\n",
    "\n",
    "    #print(line)\n",
    "    print( re.findall(('\\+*[0-9]\\s*[0-9]\\s*[0-9]\\s*[0-9]\\s*[0-9]\\s*[0-9]\\s*[0-9]\\s*[0-9]+.*[0-9]\\s*[0-9]\\s*[0-9]\\s*[0-9]\\s*[0-9]\\s*[0-9]\\s*[0-9]+|[0-9]\\s*.*[0-9]\\s*[0-9]\\s*[0-9]\\s*[0-9]\\s*[0-9]\\s*[0-9]\\s*[0-9]\\s*[0-9]+'),line))"
   ]
  }
 ],
 "metadata": {
  "kernelspec": {
   "name": "python392jvsc74a57bd0fd1f544764ea195691912644114d96d1c4426a2d5a0d9bbf195b50a43904efc3",
   "display_name": "Python 3.9.2 64-bit"
  },
  "language_info": {
   "codemirror_mode": {
    "name": "ipython",
    "version": 3
   },
   "file_extension": ".py",
   "mimetype": "text/x-python",
   "name": "python",
   "nbconvert_exporter": "python",
   "pygments_lexer": "ipython3",
   "version": "3.9.2"
  }
 },
 "nbformat": 4,
 "nbformat_minor": 4
}